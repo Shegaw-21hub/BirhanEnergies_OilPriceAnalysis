{
 "cells": [
  {
   "cell_type": "markdown",
   "metadata": {},
   "source": [
    "# Task 2: Bayesian Change Point Analysis of Brent Oil Prices\n",
    "\n",
    "This notebook implements a Bayesian change point detection model by importing the core logic from a separate Python script. This modular approach allows us to focus on data loading, model execution, and result interpretation in the notebook."
   ]
  },
  {
   "cell_type": "code",
   "execution_count": 1,
   "metadata": {},
   "outputs": [
    {
     "name": "stderr",
     "output_type": "stream",
     "text": [
      "WARNING (pytensor.configdefaults): g++ not available, if using conda: `conda install gxx`\n",
      "WARNING (pytensor.configdefaults): g++ not detected!  PyTensor will be unable to compile C-implementations and will default to Python. Performance may be severely degraded. To remove this warning, set PyTensor flags cxx to an empty string.\n"
     ]
    },
    {
     "name": "stdout",
     "output_type": "stream",
     "text": [
      "Added 'D:\\Project\\BirhanEnergies_OilPriceAnalysis' to system path.\n",
      "Data loaded successfully.\n",
      "Log returns time series head:\n",
      "Date\n",
      "1987-05-21   -0.009709\n",
      "1987-05-22    0.005405\n",
      "1987-05-25    0.002692\n",
      "1987-05-26    0.001612\n",
      "1987-05-27   -0.001612\n",
      "Name: Log_Return, dtype: float64\n"
     ]
    }
   ],
   "source": [
    "import pandas as pd\n",
    "import numpy as np\n",
    "import matplotlib.pyplot as plt\n",
    "import seaborn as sns\n",
    "import os\n",
    "import arviz as az\n",
    "import sys\n",
    "\n",
    "# Define the absolute path to your project's root directory.\n",
    "# ACTION: Replace this path with the output you got from the terminal.\n",
    "project_root = r'D:\\Project\\BirhanEnergies_OilPriceAnalysis'\n",
    "\n",
    "# Add the project root to the system path to allow imports from 'src'\n",
    "if project_root not in sys.path:\n",
    "    sys.path.append(project_root)\n",
    "    print(f\"Added '{project_root}' to system path.\")\n",
    "\n",
    "# Now, import the function. It should work correctly.\n",
    "from src.models.bayesian_changepoint import run_changepoint_model\n",
    "\n",
    "# Set plotting style\n",
    "sns.set_style('whitegrid')\n",
    "\n",
    "# Define the path to the processed data\n",
    "processed_data_path = os.path.join(project_root, \"data\", \"processed\", \"brent_oil_clean.csv\")\n",
    "\n",
    "try:\n",
    "    df = pd.read_csv(processed_data_path)\n",
    "    df['Date'] = pd.to_datetime(df['Date'])\n",
    "    df.set_index('Date', inplace=True)\n",
    "    time_series_log_return = df['Log_Return'].dropna()\n",
    "    data_to_model = time_series_log_return.values\n",
    "    print(\"Data loaded successfully.\")\n",
    "    print(\"Log returns time series head:\")\n",
    "    print(time_series_log_return.head())\n",
    "except FileNotFoundError:\n",
    "    print(\"Error: Processed data not found. Please run the data cleaning script first.\")\n",
    "    time_series_log_return = None"
   ]
  },
  {
   "cell_type": "markdown",
   "metadata": {},
   "source": [
    "### 1. Bayesian Volatility Change Point Model Execution\n",
    "\n",
    "We will now run the Bayesian model by calling the `run_changepoint_model` function from our script. This will perform the MCMC sampling and return the model's output."
   ]
  },
  {
   "cell_type": "code",
   "execution_count": null,
   "metadata": {},
   "outputs": [
    {
     "name": "stdout",
     "output_type": "stream",
     "text": [
      "\n",
      "Starting PyMC sampling for Bayesian Volatility Change Point Detection...\n"
     ]
    },
    {
     "name": "stderr",
     "output_type": "stream",
     "text": [
      "Sequential sampling (2 chains in 1 job)\n",
      "CompoundStep\n",
      ">Metropolis: [tau]\n",
      ">NUTS: [sigma_1, sigma_2, mu_log_return]\n"
     ]
    },
    {
     "data": {
      "text/html": [
       "<pre style=\"white-space:pre;overflow-x:auto;line-height:normal;font-family:Menlo,'DejaVu Sans Mono',consolas,'Courier New',monospace\">d:\\Project\\BirhanEnergies_OilPriceAnalysis\\venv\\Lib\\site-packages\\rich\\live.py:256: UserWarning: install \n",
       "\"ipywidgets\" for Jupyter support\n",
       "  warnings.warn('install \"ipywidgets\" for Jupyter support')\n",
       "</pre>\n"
      ],
      "text/plain": [
       "d:\\Project\\BirhanEnergies_OilPriceAnalysis\\venv\\Lib\\site-packages\\rich\\live.py:256: UserWarning: install \n",
       "\"ipywidgets\" for Jupyter support\n",
       "  warnings.warn('install \"ipywidgets\" for Jupyter support')\n"
      ]
     },
     "metadata": {},
     "output_type": "display_data"
    },
    {
     "data": {
      "text/html": [
       "<pre style=\"white-space:pre;overflow-x:auto;line-height:normal;font-family:Menlo,'DejaVu Sans Mono',consolas,'Courier New',monospace\">d:\\Project\\BirhanEnergies_OilPriceAnalysis\\venv\\Lib\\site-packages\\pytensor\\scalar\\basic.py:2094: RuntimeWarning: \n",
       "divide by zero encountered in divide\n",
       "  return x / y\n",
       "</pre>\n"
      ],
      "text/plain": [
       "d:\\Project\\BirhanEnergies_OilPriceAnalysis\\venv\\Lib\\site-packages\\pytensor\\scalar\\basic.py:2094: RuntimeWarning: \n",
       "divide by zero encountered in divide\n",
       "  return x / y\n"
      ]
     },
     "metadata": {},
     "output_type": "display_data"
    },
    {
     "data": {
      "text/html": [
       "<pre style=\"white-space:pre;overflow-x:auto;line-height:normal;font-family:Menlo,'DejaVu Sans Mono',consolas,'Courier New',monospace\">d:\\Project\\BirhanEnergies_OilPriceAnalysis\\venv\\Lib\\site-packages\\pytensor\\scalar\\basic.py:2094: RuntimeWarning: \n",
       "overflow encountered in divide\n",
       "  return x / y\n",
       "</pre>\n"
      ],
      "text/plain": [
       "d:\\Project\\BirhanEnergies_OilPriceAnalysis\\venv\\Lib\\site-packages\\pytensor\\scalar\\basic.py:2094: RuntimeWarning: \n",
       "overflow encountered in divide\n",
       "  return x / y\n"
      ]
     },
     "metadata": {},
     "output_type": "display_data"
    },
    {
     "data": {
      "text/html": [
       "<pre style=\"white-space:pre;overflow-x:auto;line-height:normal;font-family:Menlo,'DejaVu Sans Mono',consolas,'Courier New',monospace\">d:\\Project\\BirhanEnergies_OilPriceAnalysis\\venv\\Lib\\site-packages\\pytensor\\scalar\\basic.py:3297: RuntimeWarning: \n",
       "overflow encountered in scalar multiply\n",
       "  return x * x\n",
       "</pre>\n"
      ],
      "text/plain": [
       "d:\\Project\\BirhanEnergies_OilPriceAnalysis\\venv\\Lib\\site-packages\\pytensor\\scalar\\basic.py:3297: RuntimeWarning: \n",
       "overflow encountered in scalar multiply\n",
       "  return x * x\n"
      ]
     },
     "metadata": {},
     "output_type": "display_data"
    }
   ],
   "source": [
    "if time_series_log_return is not None:\n",
    "    trace = run_changepoint_model(data_to_model)\n",
    "\n",
    "    # Save the model output for future use (e.g., by the dashboard)\n",
    "    model_output_path = os.path.join(\"..\", \"data\", \"processed\", \"changepoint_trace.nc\")\n",
    "    az.to_netcdf(trace, model_output_path)\n",
    "    print(f\"\\nModel trace saved to {model_output_path}\")\n",
    "else:\n",
    "    print(\"Skipping model creation as log return data is not available.\")\n",
    "    trace = None"
   ]
  },
  {
   "cell_type": "markdown",
   "metadata": {},
   "source": [
    "### 2. Interpreting the Model Output\n",
    "\n",
    "Now that the model has run, we can examine its posterior distributions to interpret the results. The summary table and trace plots help us check for model convergence and identify the most probable change point."
   ]
  },
  {
   "cell_type": "code",
   "execution_count": null,
   "metadata": {},
   "outputs": [],
   "source": [
    "if trace is not None:\n",
    "    print(\"\\nBayesian Volatility Model Summary:\")\n",
    "    display(az.summary(trace, var_names=[\"tau\", \"mu_log_return\", \"sigma_1\", \"sigma_2\"]))\n",
    "\n",
    "    tau_samples = trace.posterior[\"tau\"].values.flatten()\n",
    "    most_probable_tau_index = int(pd.Series(tau_samples).mode().iloc[0])\n",
    "    most_probable_date = time_series_log_return.index[most_probable_tau_index].strftime('%Y-%m-%d')\n",
    "    \n",
    "    print(f\"\\nMost Probable Change Point Index: {most_probable_tau_index}\")\n",
    "    print(f\"This corresponds to the date: {most_probable_date}\")\n",
    "else:\n",
    "    print(\"No model trace to analyze.\")"
   ]
  },
  {
   "cell_type": "markdown",
   "metadata": {},
   "source": [
    "### 3. Visualizing the Change Point and Quantifying Impact\n",
    "\n",
    "Finally, we'll visualize the detected change point and quantify the shift in volatility. We will use this information to associate the finding with a real-world event."
   ]
  },
  {
   "cell_type": "code",
   "execution_count": null,
   "metadata": {},
   "outputs": [],
   "source": [
    "if trace is not None and time_series_log_return is not None:\n",
    "    plt.figure(figsize=(18, 8))\n",
    "    plt.plot(time_series_log_return.index, time_series_log_return.values, label='Brent Oil Log Returns', color='blue', alpha=0.7)\n",
    "\n",
    "    # Plot the most probable change point\n",
    "    plt.axvline(x=time_series_log_return.index[most_probable_tau_index], color='green', linestyle='-', linewidth=2, label='Most Probable Volatility Change Point')\n",
    "    \n",
    "    plt.title('Bayesian Change Point Detection on Brent Oil Log Returns')\n",
    "    plt.xlabel('Date')\n",
    "    plt.ylabel('Log Return')\n",
    "    plt.legend()\n",
    "    plt.grid(True)\n",
    "    plt.tight_layout()\n",
    "    plt.show()\n",
    "\n",
    "    # Quantify the impact\n",
    "    posterior_sigma_1 = trace.posterior[\"sigma_1\"].mean().item()\n",
    "    posterior_sigma_2 = trace.posterior[\"sigma_2\"].mean().item()\n",
    "    percent_change_volatility = ((posterior_sigma_2 - posterior_sigma_1) / posterior_sigma_1) * 100 if posterior_sigma_1 != 0 else float('inf')\n",
    "\n",
    "    print(\"\\n--- Quantifying the Change Point Impact ---\")\n",
    "    print(f\"Estimated Std Dev of Log Returns before Change (sigma_1): {posterior_sigma_1:.4f}\")\n",
    "    print(f\"Estimated Std Dev of Log Returns after Change (sigma_2): {posterior_sigma_2:.4f}\")\n",
    "    print(f\"Percentage change in volatility: {percent_change_volatility:.2f}%\")\n",
    "else:\n",
    "    print(\"Skipping visualization and impact quantification.\")"
   ]
  },
  {
   "cell_type": "markdown",
   "metadata": {},
   "source": []
  }
 ],
 "metadata": {
  "kernelspec": {
   "display_name": "venv",
   "language": "python",
   "name": "python3"
  },
  "language_info": {
   "codemirror_mode": {
    "name": "ipython",
    "version": 3
   },
   "file_extension": ".py",
   "mimetype": "text/x-python",
   "name": "python",
   "nbconvert_exporter": "python",
   "pygments_lexer": "ipython3",
   "version": "3.11.9"
  }
 },
 "nbformat": 4,
 "nbformat_minor": 2
}
